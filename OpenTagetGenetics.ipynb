{
 "cells": [
  {
   "cell_type": "markdown",
   "metadata": {},
   "source": [
    "### Using Python to Query Open Targets Genetics using GraphQL"
   ]
  },
  {
   "cell_type": "markdown",
   "metadata": {},
   "source": [
    "#### Pyton Connection to GraphQL API\n",
    "Code snippet that illustrate how to use very basic Python packages (requests/json/pandas) to connect to a GraphQL API, from [Melvynn's article](https://towardsdatascience.com/connecting-to-a-graphql-api-using-python-246dda927840)."
   ]
  },
  {
   "cell_type": "code",
   "execution_count": 1,
   "metadata": {},
   "outputs": [],
   "source": [
    "import requests\n",
    "import json\n",
    "import pandas as pd"
   ]
  },
  {
   "cell_type": "code",
   "execution_count": 2,
   "metadata": {},
   "outputs": [],
   "source": [
    "query = \"\"\"query {\n",
    "    characters {\n",
    "    results {\n",
    "      name\n",
    "      status\n",
    "      species\n",
    "      type\n",
    "      gender\n",
    "    }\n",
    "  }\n",
    "}\"\"\""
   ]
  },
  {
   "cell_type": "code",
   "execution_count": 3,
   "metadata": {},
   "outputs": [
    {
     "name": "stdout",
     "output_type": "stream",
     "text": [
      "200\n",
      "{\"data\":{\"characters\":{\"results\":[{\"name\":\"Rick Sanchez\",\"status\":\"Alive\",\"species\":\"Human\",\"type\":\"\",\"gender\":\"Male\"},{\"name\":\"Morty Smith\",\"status\":\"Alive\",\"species\":\"Human\",\"type\":\"\",\"gender\":\"Male\"},{\"name\":\"Summer Smith\",\"status\":\"Alive\",\"species\":\"Human\",\"type\":\"\",\"gender\":\"Female\"},{\"name\":\"Beth Smith\",\"status\":\"Alive\",\"species\":\"Human\",\"type\":\"\",\"gender\":\"Female\"},{\"name\":\"Jerry Smith\",\"status\":\"Alive\",\"species\":\"Human\",\"type\":\"\",\"gender\":\"Male\"},{\"name\":\"Abadango Cluster Princess\",\"status\":\"Alive\",\"species\":\"Alien\",\"type\":\"\",\"gender\":\"Female\"},{\"name\":\"Abradolf Lincler\",\"status\":\"unknown\",\"species\":\"Human\",\"type\":\"Genetic experiment\",\"gender\":\"Male\"},{\"name\":\"Adjudicator Rick\",\"status\":\"Dead\",\"species\":\"Human\",\"type\":\"\",\"gender\":\"Male\"},{\"name\":\"Agency Director\",\"status\":\"Dead\",\"species\":\"Human\",\"type\":\"\",\"gender\":\"Male\"},{\"name\":\"Alan Rails\",\"status\":\"Dead\",\"species\":\"Human\",\"type\":\"Superhuman (Ghost trains summoner)\",\"gender\":\"Male\"},{\"name\":\"Albert Einstein\",\"status\":\"Dead\",\"species\":\"Human\",\"type\":\"\",\"gender\":\"Male\"},{\"name\":\"Alexander\",\"status\":\"Dead\",\"species\":\"Human\",\"type\":\"\",\"gender\":\"Male\"},{\"name\":\"Alien Googah\",\"status\":\"unknown\",\"species\":\"Alien\",\"type\":\"\",\"gender\":\"unknown\"},{\"name\":\"Alien Morty\",\"status\":\"unknown\",\"species\":\"Alien\",\"type\":\"\",\"gender\":\"Male\"},{\"name\":\"Alien Rick\",\"status\":\"unknown\",\"species\":\"Alien\",\"type\":\"\",\"gender\":\"Male\"},{\"name\":\"Amish Cyborg\",\"status\":\"Dead\",\"species\":\"Alien\",\"type\":\"Parasite\",\"gender\":\"Male\"},{\"name\":\"Annie\",\"status\":\"Alive\",\"species\":\"Human\",\"type\":\"\",\"gender\":\"Female\"},{\"name\":\"Antenna Morty\",\"status\":\"Alive\",\"species\":\"Human\",\"type\":\"Human with antennae\",\"gender\":\"Male\"},{\"name\":\"Antenna Rick\",\"status\":\"unknown\",\"species\":\"Human\",\"type\":\"Human with antennae\",\"gender\":\"Male\"},{\"name\":\"Ants in my Eyes Johnson\",\"status\":\"unknown\",\"species\":\"Human\",\"type\":\"Human with ants in his eyes\",\"gender\":\"Male\"}]}}}\n",
      "\n"
     ]
    }
   ],
   "source": [
    "url = 'https://rickandmortyapi.com/graphql/'\n",
    "r = requests.post(url, json={'query': query})\n",
    "print(r.status_code)\n",
    "print(r.text)"
   ]
  },
  {
   "cell_type": "code",
   "execution_count": 4,
   "metadata": {},
   "outputs": [
    {
     "data": {
      "text/html": [
       "<div>\n",
       "<style scoped>\n",
       "    .dataframe tbody tr th:only-of-type {\n",
       "        vertical-align: middle;\n",
       "    }\n",
       "\n",
       "    .dataframe tbody tr th {\n",
       "        vertical-align: top;\n",
       "    }\n",
       "\n",
       "    .dataframe thead th {\n",
       "        text-align: right;\n",
       "    }\n",
       "</style>\n",
       "<table border=\"1\" class=\"dataframe\">\n",
       "  <thead>\n",
       "    <tr style=\"text-align: right;\">\n",
       "      <th></th>\n",
       "      <th>name</th>\n",
       "      <th>status</th>\n",
       "      <th>species</th>\n",
       "      <th>type</th>\n",
       "      <th>gender</th>\n",
       "    </tr>\n",
       "  </thead>\n",
       "  <tbody>\n",
       "    <tr>\n",
       "      <th>0</th>\n",
       "      <td>Rick Sanchez</td>\n",
       "      <td>Alive</td>\n",
       "      <td>Human</td>\n",
       "      <td></td>\n",
       "      <td>Male</td>\n",
       "    </tr>\n",
       "    <tr>\n",
       "      <th>1</th>\n",
       "      <td>Morty Smith</td>\n",
       "      <td>Alive</td>\n",
       "      <td>Human</td>\n",
       "      <td></td>\n",
       "      <td>Male</td>\n",
       "    </tr>\n",
       "    <tr>\n",
       "      <th>2</th>\n",
       "      <td>Summer Smith</td>\n",
       "      <td>Alive</td>\n",
       "      <td>Human</td>\n",
       "      <td></td>\n",
       "      <td>Female</td>\n",
       "    </tr>\n",
       "    <tr>\n",
       "      <th>3</th>\n",
       "      <td>Beth Smith</td>\n",
       "      <td>Alive</td>\n",
       "      <td>Human</td>\n",
       "      <td></td>\n",
       "      <td>Female</td>\n",
       "    </tr>\n",
       "    <tr>\n",
       "      <th>4</th>\n",
       "      <td>Jerry Smith</td>\n",
       "      <td>Alive</td>\n",
       "      <td>Human</td>\n",
       "      <td></td>\n",
       "      <td>Male</td>\n",
       "    </tr>\n",
       "  </tbody>\n",
       "</table>\n",
       "</div>"
      ],
      "text/plain": [
       "           name status species type  gender\n",
       "0  Rick Sanchez  Alive   Human         Male\n",
       "1   Morty Smith  Alive   Human         Male\n",
       "2  Summer Smith  Alive   Human       Female\n",
       "3    Beth Smith  Alive   Human       Female\n",
       "4   Jerry Smith  Alive   Human         Male"
      ]
     },
     "execution_count": 4,
     "metadata": {},
     "output_type": "execute_result"
    }
   ],
   "source": [
    "json_data = json.loads(r.text)\n",
    "df_data = json_data['data']['characters']['results']\n",
    "df = pd.DataFrame(df_data)\n",
    "df.head(5)"
   ]
  },
  {
   "cell_type": "markdown",
   "metadata": {},
   "source": [
    "#### Python Connection to GraphQL API of Open Targets Genetics\n",
    "Use Python to reproduce [Open Targets's tutorial](http://blog.opentargets.org/2020/08/06/accessing-the-open-targets-genetics-using-graphql/) using GraphQL browser\n",
    "\n",
    "**From Ensembl ID to Gene Information**"
   ]
  },
  {
   "cell_type": "code",
   "execution_count": 5,
   "metadata": {},
   "outputs": [
    {
     "name": "stdout",
     "output_type": "stream",
     "text": [
      "{ geneInfo(geneId: \"ENSG00000091831\") { symbol }}\n",
      "200\n",
      "{\"data\":{\"geneInfo\":{\"symbol\":\"ESR1\"}}}\n"
     ]
    }
   ],
   "source": [
    "query = \"{ geneInfo(geneId: \\\"ENSG00000091831\\\") { symbol }}\"\n",
    "print(query)\n",
    "url = 'https://genetics-api.opentargets.io/graphql'\n",
    "r = requests.post(url, json={'query': query})\n",
    "print(r.status_code)\n",
    "print(r.text)"
   ]
  },
  {
   "cell_type": "code",
   "execution_count": 6,
   "metadata": {},
   "outputs": [],
   "source": [
    "query = \"\"\"{\n",
    "    geneInfo(geneId: \\\"ENSG00000012048\\\") {\n",
    "        id\n",
    "        symbol\n",
    "        description\n",
    "        chromosome\n",
    "        start\n",
    "        end\n",
    "  }\n",
    "}\"\"\""
   ]
  },
  {
   "cell_type": "code",
   "execution_count": 7,
   "metadata": {},
   "outputs": [
    {
     "name": "stdout",
     "output_type": "stream",
     "text": [
      "200\n",
      "{\"data\":{\"geneInfo\":{\"id\":\"ENSG00000012048\",\"symbol\":\"BRCA1\",\"description\":\"BRCA1, DNA repair associated [Source:HGNC Symbol;Acc:HGNC:1100]\",\"chromosome\":\"17\",\"start\":43044295,\"end\":43170245}}}\n"
     ]
    },
    {
     "data": {
      "text/html": [
       "<div>\n",
       "<style scoped>\n",
       "    .dataframe tbody tr th:only-of-type {\n",
       "        vertical-align: middle;\n",
       "    }\n",
       "\n",
       "    .dataframe tbody tr th {\n",
       "        vertical-align: top;\n",
       "    }\n",
       "\n",
       "    .dataframe thead th {\n",
       "        text-align: right;\n",
       "    }\n",
       "</style>\n",
       "<table border=\"1\" class=\"dataframe\">\n",
       "  <thead>\n",
       "    <tr style=\"text-align: right;\">\n",
       "      <th></th>\n",
       "      <th>id</th>\n",
       "      <th>symbol</th>\n",
       "      <th>description</th>\n",
       "      <th>chromosome</th>\n",
       "      <th>start</th>\n",
       "      <th>end</th>\n",
       "    </tr>\n",
       "  </thead>\n",
       "  <tbody>\n",
       "    <tr>\n",
       "      <th>0</th>\n",
       "      <td>ENSG00000012048</td>\n",
       "      <td>BRCA1</td>\n",
       "      <td>BRCA1, DNA repair associated [Source:HGNC Symb...</td>\n",
       "      <td>17</td>\n",
       "      <td>43044295</td>\n",
       "      <td>43170245</td>\n",
       "    </tr>\n",
       "  </tbody>\n",
       "</table>\n",
       "</div>"
      ],
      "text/plain": [
       "                id symbol                                        description  \\\n",
       "0  ENSG00000012048  BRCA1  BRCA1, DNA repair associated [Source:HGNC Symb...   \n",
       "\n",
       "  chromosome     start       end  \n",
       "0         17  43044295  43170245  "
      ]
     },
     "execution_count": 7,
     "metadata": {},
     "output_type": "execute_result"
    }
   ],
   "source": [
    "url = 'https://genetics-api.opentargets.io/graphql'\n",
    "r = requests.post(url, json={'query': query})\n",
    "print(r.status_code)\n",
    "print(r.text)\n",
    "json_data = json.loads(r.text)\n",
    "pd.DataFrame(json_data['data']['geneInfo'], index=[0])\n",
    "# use index=[0] because there are only one element"
   ]
  },
  {
   "cell_type": "markdown",
   "metadata": {},
   "source": [
    "**From Ensembl ID to Related Studies**"
   ]
  },
  {
   "cell_type": "code",
   "execution_count": 8,
   "metadata": {},
   "outputs": [],
   "source": [
    "query = \"\"\"{\n",
    "    studiesAndLeadVariantsForGene(geneId: \\\"ENSG00000012048\\\") {\n",
    "        study {\n",
    "          pmid\n",
    "          pubDate\n",
    "          pubJournal\n",
    "          pubAuthor\n",
    "          hasSumsStats\n",
    "          nInitial\n",
    "          nReplication\n",
    "          nCases\n",
    "          traitCategory\n",
    "          numAssocLoci\n",
    "        }\n",
    "    }\n",
    "}\"\"\""
   ]
  },
  {
   "cell_type": "code",
   "execution_count": 9,
   "metadata": {},
   "outputs": [
    {
     "name": "stdout",
     "output_type": "stream",
     "text": [
      "200\n",
      "{\"data\":{\"studiesAndLeadVariantsForGene\":[{\"study\":{\"pmid\":\"PMID:29059683\",\"pubDate\":\"2017-10-23\",\"p\n"
     ]
    }
   ],
   "source": [
    "url = 'https://genetics-api.opentargets.io/graphql'\n",
    "r = requests.post(url, json={'query': query})\n",
    "print(r.status_code)\n",
    "print(r.text[:100])\n",
    "json_data = json.loads(r.text)"
   ]
  },
  {
   "cell_type": "code",
   "execution_count": 10,
   "metadata": {},
   "outputs": [
    {
     "name": "stdout",
     "output_type": "stream",
     "text": [
      "<class 'list'>\n",
      "79\n",
      "{'study': {'pmid': 'PMID:29059683', 'pubDate': '2017-10-23', 'pubJournal': 'Nature', 'pubAuthor': 'Michailidou K', 'hasSumsStats': True, 'nInitial': 139274, 'nReplication': 103745, 'nCases': 76192, 'traitCategory': 'Integumentary system', 'numAssocLoci': 199}}\n"
     ]
    },
    {
     "data": {
      "text/html": [
       "<div>\n",
       "<style scoped>\n",
       "    .dataframe tbody tr th:only-of-type {\n",
       "        vertical-align: middle;\n",
       "    }\n",
       "\n",
       "    .dataframe tbody tr th {\n",
       "        vertical-align: top;\n",
       "    }\n",
       "\n",
       "    .dataframe thead th {\n",
       "        text-align: right;\n",
       "    }\n",
       "</style>\n",
       "<table border=\"1\" class=\"dataframe\">\n",
       "  <thead>\n",
       "    <tr style=\"text-align: right;\">\n",
       "      <th></th>\n",
       "      <th>pmid</th>\n",
       "      <th>pubDate</th>\n",
       "      <th>pubJournal</th>\n",
       "      <th>pubAuthor</th>\n",
       "      <th>hasSumsStats</th>\n",
       "      <th>nInitial</th>\n",
       "      <th>nReplication</th>\n",
       "      <th>nCases</th>\n",
       "      <th>traitCategory</th>\n",
       "      <th>numAssocLoci</th>\n",
       "    </tr>\n",
       "  </thead>\n",
       "  <tbody>\n",
       "    <tr>\n",
       "      <th>0</th>\n",
       "      <td>PMID:29059683</td>\n",
       "      <td>2017-10-23</td>\n",
       "      <td>Nature</td>\n",
       "      <td>Michailidou K</td>\n",
       "      <td>True</td>\n",
       "      <td>139274</td>\n",
       "      <td>103745.0</td>\n",
       "      <td>76192.0</td>\n",
       "      <td>Integumentary system</td>\n",
       "      <td>199</td>\n",
       "    </tr>\n",
       "    <tr>\n",
       "      <th>1</th>\n",
       "      <td>None</td>\n",
       "      <td>2018-08-01</td>\n",
       "      <td>None</td>\n",
       "      <td>UKB Neale v2</td>\n",
       "      <td>True</td>\n",
       "      <td>359983</td>\n",
       "      <td>0.0</td>\n",
       "      <td>NaN</td>\n",
       "      <td>Anthropometric measurement</td>\n",
       "      <td>502</td>\n",
       "    </tr>\n",
       "    <tr>\n",
       "      <th>2</th>\n",
       "      <td>None</td>\n",
       "      <td>2018-08-01</td>\n",
       "      <td>None</td>\n",
       "      <td>UKB Neale v2</td>\n",
       "      <td>True</td>\n",
       "      <td>354707</td>\n",
       "      <td>0.0</td>\n",
       "      <td>NaN</td>\n",
       "      <td>Anthropometric measurement</td>\n",
       "      <td>415</td>\n",
       "    </tr>\n",
       "    <tr>\n",
       "      <th>3</th>\n",
       "      <td>PMID:30239722</td>\n",
       "      <td>2018-09-14</td>\n",
       "      <td>Hum Mol Genet</td>\n",
       "      <td>Pulit SL</td>\n",
       "      <td>False</td>\n",
       "      <td>806834</td>\n",
       "      <td>NaN</td>\n",
       "      <td>NaN</td>\n",
       "      <td>Anthropometric measurement</td>\n",
       "      <td>680</td>\n",
       "    </tr>\n",
       "    <tr>\n",
       "      <th>4</th>\n",
       "      <td>None</td>\n",
       "      <td>2018-08-01</td>\n",
       "      <td>None</td>\n",
       "      <td>UKB Neale v2</td>\n",
       "      <td>True</td>\n",
       "      <td>354831</td>\n",
       "      <td>0.0</td>\n",
       "      <td>NaN</td>\n",
       "      <td>Anthropometric measurement</td>\n",
       "      <td>478</td>\n",
       "    </tr>\n",
       "  </tbody>\n",
       "</table>\n",
       "</div>"
      ],
      "text/plain": [
       "            pmid     pubDate     pubJournal      pubAuthor  hasSumsStats  \\\n",
       "0  PMID:29059683  2017-10-23         Nature  Michailidou K          True   \n",
       "1           None  2018-08-01           None   UKB Neale v2          True   \n",
       "2           None  2018-08-01           None   UKB Neale v2          True   \n",
       "3  PMID:30239722  2018-09-14  Hum Mol Genet       Pulit SL         False   \n",
       "4           None  2018-08-01           None   UKB Neale v2          True   \n",
       "\n",
       "   nInitial  nReplication   nCases               traitCategory  numAssocLoci  \n",
       "0    139274      103745.0  76192.0        Integumentary system           199  \n",
       "1    359983           0.0      NaN  Anthropometric measurement           502  \n",
       "2    354707           0.0      NaN  Anthropometric measurement           415  \n",
       "3    806834           NaN      NaN  Anthropometric measurement           680  \n",
       "4    354831           0.0      NaN  Anthropometric measurement           478  "
      ]
     },
     "execution_count": 10,
     "metadata": {},
     "output_type": "execute_result"
    }
   ],
   "source": [
    "print(type(json_data['data']['studiesAndLeadVariantsForGene']))\n",
    "print(len(json_data['data']['studiesAndLeadVariantsForGene']))\n",
    "print(json_data['data']['studiesAndLeadVariantsForGene'][0])\n",
    "pd.DataFrame([x['study'] for x in json_data['data']['studiesAndLeadVariantsForGene']]).head(5)\n",
    "#because study is one of return element"
   ]
  },
  {
   "cell_type": "markdown",
   "metadata": {},
   "source": [
    "**From Ensembl ID to Related Studies and Lead Variants based on L2G Pipeline**\n",
    "\n",
    "Check https://gist.github.com/mirandaio/bc0cac808341b074ab0e2da0cfcc3e42 for implementatoion based on input json file and curl."
   ]
  },
  {
   "cell_type": "code",
   "execution_count": 11,
   "metadata": {},
   "outputs": [],
   "source": [
    "query = \"\"\"{\n",
    "    studiesAndLeadVariantsForGeneByL2G(geneId: \\\"ENSG00000158158\\\") {\n",
    "        variant {\n",
    "            id\n",
    "            rsId\n",
    "        }\n",
    "        study {\n",
    "            studyId\n",
    "            traitReported\n",
    "        }\n",
    "    }\n",
    "}\"\"\""
   ]
  },
  {
   "cell_type": "code",
   "execution_count": 12,
   "metadata": {},
   "outputs": [
    {
     "name": "stdout",
     "output_type": "stream",
     "text": [
      "200\n",
      "{\"data\":{\"studiesAndLeadVariantsForGeneByL2G\":[{\"variant\":{\"id\":\"2_97131943_T_C\",\"rsId\":\"rs13390019\"\n"
     ]
    }
   ],
   "source": [
    "url = 'https://genetics-api.opentargets.io/graphql'\n",
    "r = requests.post(url, json={'query': query})\n",
    "print(r.status_code)\n",
    "print(r.text[:100])\n",
    "json_data = json.loads(r.text)"
   ]
  },
  {
   "cell_type": "code",
   "execution_count": 13,
   "metadata": {},
   "outputs": [
    {
     "name": "stdout",
     "output_type": "stream",
     "text": [
      "<class 'list'>\n",
      "41\n"
     ]
    },
    {
     "data": {
      "text/plain": [
       "{'variant': {'id': '2_97131943_T_C', 'rsId': 'rs13390019'},\n",
       " 'study': {'studyId': 'GCST008757', 'traitReported': 'Alcohol consumption'}}"
      ]
     },
     "execution_count": 13,
     "metadata": {},
     "output_type": "execute_result"
    }
   ],
   "source": [
    "print(type(json_data['data']['studiesAndLeadVariantsForGeneByL2G']))\n",
    "print(len(json_data['data']['studiesAndLeadVariantsForGeneByL2G']))\n",
    "json_data['data']['studiesAndLeadVariantsForGeneByL2G'][0]"
   ]
  },
  {
   "cell_type": "code",
   "execution_count": 14,
   "metadata": {},
   "outputs": [
    {
     "data": {
      "text/html": [
       "<div>\n",
       "<style scoped>\n",
       "    .dataframe tbody tr th:only-of-type {\n",
       "        vertical-align: middle;\n",
       "    }\n",
       "\n",
       "    .dataframe tbody tr th {\n",
       "        vertical-align: top;\n",
       "    }\n",
       "\n",
       "    .dataframe thead th {\n",
       "        text-align: right;\n",
       "    }\n",
       "</style>\n",
       "<table border=\"1\" class=\"dataframe\">\n",
       "  <thead>\n",
       "    <tr style=\"text-align: right;\">\n",
       "      <th></th>\n",
       "      <th>id</th>\n",
       "      <th>rsId</th>\n",
       "      <th>studyId</th>\n",
       "      <th>traitReported</th>\n",
       "    </tr>\n",
       "  </thead>\n",
       "  <tbody>\n",
       "    <tr>\n",
       "      <th>0</th>\n",
       "      <td>2_97131943_T_C</td>\n",
       "      <td>rs13390019</td>\n",
       "      <td>GCST008757</td>\n",
       "      <td>Alcohol consumption</td>\n",
       "    </tr>\n",
       "    <tr>\n",
       "      <th>1</th>\n",
       "      <td>2_96510897_C_T</td>\n",
       "      <td>rs2579503</td>\n",
       "      <td>GCST007269</td>\n",
       "      <td>Pulse pressure</td>\n",
       "    </tr>\n",
       "    <tr>\n",
       "      <th>2</th>\n",
       "      <td>2_96377542_G_GT</td>\n",
       "      <td>rs561539268</td>\n",
       "      <td>NEALE2_1687</td>\n",
       "      <td>Comparative body size at age 10</td>\n",
       "    </tr>\n",
       "    <tr>\n",
       "      <th>3</th>\n",
       "      <td>2_96381261_G_A</td>\n",
       "      <td>rs1081707</td>\n",
       "      <td>GCST007268</td>\n",
       "      <td>Diastolic blood pressure</td>\n",
       "    </tr>\n",
       "    <tr>\n",
       "      <th>4</th>\n",
       "      <td>2_96506388_G_A</td>\n",
       "      <td>rs1866444</td>\n",
       "      <td>GCST008413</td>\n",
       "      <td>Core binding factor acute myeloid leukemia</td>\n",
       "    </tr>\n",
       "  </tbody>\n",
       "</table>\n",
       "</div>"
      ],
      "text/plain": [
       "                id         rsId      studyId  \\\n",
       "0   2_97131943_T_C   rs13390019   GCST008757   \n",
       "1   2_96510897_C_T    rs2579503   GCST007269   \n",
       "2  2_96377542_G_GT  rs561539268  NEALE2_1687   \n",
       "3   2_96381261_G_A    rs1081707   GCST007268   \n",
       "4   2_96506388_G_A    rs1866444   GCST008413   \n",
       "\n",
       "                                traitReported  \n",
       "0                         Alcohol consumption  \n",
       "1                              Pulse pressure  \n",
       "2             Comparative body size at age 10  \n",
       "3                    Diastolic blood pressure  \n",
       "4  Core binding factor acute myeloid leukemia  "
      ]
     },
     "execution_count": 14,
     "metadata": {},
     "output_type": "execute_result"
    }
   ],
   "source": [
    "pd.DataFrame([{**x['variant'], **x['study']} for x in json_data['data']['studiesAndLeadVariantsForGeneByL2G']]).head(5)"
   ]
  },
  {
   "cell_type": "code",
   "execution_count": null,
   "metadata": {},
   "outputs": [],
   "source": []
  }
 ],
 "metadata": {
  "kernelspec": {
   "display_name": "deepEnv",
   "language": "python",
   "name": "deepenv"
  },
  "language_info": {
   "codemirror_mode": {
    "name": "ipython",
    "version": 3
   },
   "file_extension": ".py",
   "mimetype": "text/x-python",
   "name": "python",
   "nbconvert_exporter": "python",
   "pygments_lexer": "ipython3",
   "version": "3.6.8"
  }
 },
 "nbformat": 4,
 "nbformat_minor": 2
}
